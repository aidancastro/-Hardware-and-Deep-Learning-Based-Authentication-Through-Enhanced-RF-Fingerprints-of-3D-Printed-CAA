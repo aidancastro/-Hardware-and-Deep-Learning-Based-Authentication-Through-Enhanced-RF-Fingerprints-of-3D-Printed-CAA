{
 "cells": [
  {
   "cell_type": "code",
   "execution_count": null,
   "id": "4e2804cc-ccc8-457b-a49f-98cb17870f61",
   "metadata": {},
   "outputs": [],
   "source": [
    "#import libraries"
   ]
  },
  {
   "cell_type": "code",
   "execution_count": null,
   "id": "c1979d06-2745-4b43-8dd3-dc58824c2a84",
   "metadata": {},
   "outputs": [],
   "source": [
    "import numpy as np\n",
    "import matplotlib as plt\n",
    "import tensorflow as tf\n",
    "\n",
    "from tensorflow import keras\n",
    "from tensorflow.keras import layers\n",
    "from tensorflow.keras.models import sequential, model\n",
    "from tensorflow.keras.layers import Conv1D, Conv2D\n",
    "from tensorflow.keras.layers import MaxPooling2D\n",
    "from tensorflow.keras.layers import Flatten\n",
    "from tensorflow.keras.layers import Dense, BatchNormalization\n"
   ]
  },
  {
   "cell_type": "code",
   "execution_count": null,
   "id": "379cf4d6-9080-477c-9290-3594d90f3623",
   "metadata": {},
   "outputs": [],
   "source": [
    "#helper functions"
   ]
  },
  {
   "cell_type": "code",
   "execution_count": null,
   "id": "c08b622f-4f26-4728-9a1e-65a2cd06744a",
   "metadata": {},
   "outputs": [],
   "source": []
  }
 ],
 "metadata": {
  "kernelspec": {
   "display_name": "Python 3 (ipykernel)",
   "language": "python",
   "name": "python3"
  },
  "language_info": {
   "codemirror_mode": {
    "name": "ipython",
    "version": 3
   },
   "file_extension": ".py",
   "mimetype": "text/x-python",
   "name": "python",
   "nbconvert_exporter": "python",
   "pygments_lexer": "ipython3",
   "version": "3.11.9"
  }
 },
 "nbformat": 4,
 "nbformat_minor": 5
}
