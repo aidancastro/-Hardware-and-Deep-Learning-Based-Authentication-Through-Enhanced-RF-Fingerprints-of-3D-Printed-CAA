{
 "cells": [
  {
   "cell_type": "code",
   "execution_count": null,
   "id": "4e2804cc-ccc8-457b-a49f-98cb17870f61",
   "metadata": {},
   "outputs": [],
   "source": [
    "#import libraries"
   ]
  },
  {
   "cell_type": "code",
   "execution_count": 3,
   "id": "bb8e7016-7753-41bc-a683-dbadeb8a7891",
   "metadata": {},
   "outputs": [
    {
     "name": "stdout",
     "output_type": "stream",
     "text": [
      "Collecting boxsdk\n",
      "  Downloading boxsdk-3.14.0-py2.py3-none-any.whl.metadata (20 kB)\n",
      "Requirement already satisfied: attrs>=17.3.0 in c:\\users\\13523\\venvs\\lab\\lib\\site-packages (from boxsdk) (25.3.0)\n",
      "Requirement already satisfied: urllib3 in c:\\users\\13523\\venvs\\lab\\lib\\site-packages (from boxsdk) (2.5.0)\n",
      "Requirement already satisfied: requests<3,>=2.4.3 in c:\\users\\13523\\venvs\\lab\\lib\\site-packages (from boxsdk) (2.32.4)\n",
      "Collecting requests-toolbelt>=0.4.0 (from boxsdk)\n",
      "  Downloading requests_toolbelt-1.0.0-py2.py3-none-any.whl.metadata (14 kB)\n",
      "Requirement already satisfied: python-dateutil in c:\\users\\13523\\venvs\\lab\\lib\\site-packages (from boxsdk) (2.9.0.post0)\n",
      "Requirement already satisfied: charset_normalizer<4,>=2 in c:\\users\\13523\\venvs\\lab\\lib\\site-packages (from requests<3,>=2.4.3->boxsdk) (3.4.2)\n",
      "Requirement already satisfied: idna<4,>=2.5 in c:\\users\\13523\\venvs\\lab\\lib\\site-packages (from requests<3,>=2.4.3->boxsdk) (3.10)\n",
      "Requirement already satisfied: certifi>=2017.4.17 in c:\\users\\13523\\venvs\\lab\\lib\\site-packages (from requests<3,>=2.4.3->boxsdk) (2025.8.3)\n",
      "Requirement already satisfied: six>=1.5 in c:\\users\\13523\\venvs\\lab\\lib\\site-packages (from python-dateutil->boxsdk) (1.17.0)\n",
      "Downloading boxsdk-3.14.0-py2.py3-none-any.whl (141 kB)\n",
      "Downloading requests_toolbelt-1.0.0-py2.py3-none-any.whl (54 kB)\n",
      "Installing collected packages: requests-toolbelt, boxsdk\n",
      "\n",
      "   ---------------------------------------- 0/2 [requests-toolbelt]\n",
      "   ---------------------------------------- 0/2 [requests-toolbelt]\n",
      "   -------------------- ------------------- 1/2 [boxsdk]\n",
      "   -------------------- ------------------- 1/2 [boxsdk]\n",
      "   -------------------- ------------------- 1/2 [boxsdk]\n",
      "   -------------------- ------------------- 1/2 [boxsdk]\n",
      "   -------------------- ------------------- 1/2 [boxsdk]\n",
      "   -------------------- ------------------- 1/2 [boxsdk]\n",
      "   -------------------- ------------------- 1/2 [boxsdk]\n",
      "   -------------------- ------------------- 1/2 [boxsdk]\n",
      "   -------------------- ------------------- 1/2 [boxsdk]\n",
      "   ---------------------------------------- 2/2 [boxsdk]\n",
      "\n",
      "Successfully installed boxsdk-3.14.0 requests-toolbelt-1.0.0\n",
      "Note: you may need to restart the kernel to use updated packages.\n"
     ]
    }
   ],
   "source": [
    "pip install boxsdk\n",
    "pip install boxsdk --quiet"
   ]
  },
  {
   "cell_type": "code",
   "execution_count": null,
   "id": "c1979d06-2745-4b43-8dd3-dc58824c2a84",
   "metadata": {},
   "outputs": [],
   "source": [
    "import numpy as np\n",
    "import matplotlib as plt\n",
    "import tensorflow as tf\n",
    "\n",
    "from tensorflow import keras\n",
    "from tensorflow.keras import layers\n",
    "from tensorflow.keras.models import sequential, model\n",
    "from tensorflow.keras.layers import Conv1D, Conv2D\n",
    "from tensorflow.keras.layers import MaxPooling2D\n",
    "from tensorflow.keras.layers import Flatten\n",
    "from tensorflow.keras.layers import Dense, BatchNormalization\n"
   ]
  },
  {
   "cell_type": "code",
   "execution_count": null,
   "id": "379cf4d6-9080-477c-9290-3594d90f3623",
   "metadata": {},
   "outputs": [],
   "source": [
    "#helper functions"
   ]
  },
  {
   "cell_type": "code",
   "execution_count": null,
   "id": "2ee04549-ae6b-4a3a-91e9-c7d9d563b2ce",
   "metadata": {},
   "outputs": [],
   "source": []
  },
  {
   "cell_type": "code",
   "execution_count": null,
   "id": "a4f3ce93-e614-4c27-a1de-63c90164a52f",
   "metadata": {},
   "outputs": [],
   "source": [
    "#data sorting"
   ]
  }
 ],
 "metadata": {
  "kernelspec": {
   "display_name": "Python 3 (ipykernel)",
   "language": "python",
   "name": "python3"
  },
  "language_info": {
   "codemirror_mode": {
    "name": "ipython",
    "version": 3
   },
   "file_extension": ".py",
   "mimetype": "text/x-python",
   "name": "python",
   "nbconvert_exporter": "python",
   "pygments_lexer": "ipython3",
   "version": "3.11.9"
  }
 },
 "nbformat": 4,
 "nbformat_minor": 5
}
