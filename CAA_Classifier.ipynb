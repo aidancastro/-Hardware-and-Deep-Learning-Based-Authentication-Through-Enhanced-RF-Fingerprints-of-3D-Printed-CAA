{
 "cells": [
  {
   "cell_type": "code",
   "execution_count": null,
   "id": "14b3fef2-dea9-4a74-a423-ed8e682fd32c",
   "metadata": {},
   "outputs": [],
   "source": [
    "#libraries"
   ]
  },
  {
   "cell_type": "code",
   "execution_count": 4,
   "id": "a96e5030-c3b0-4d1c-9bb3-1fad097db0ab",
   "metadata": {},
   "outputs": [],
   "source": [
    "import numpy as np\n",
    "import matplotlib.pyplot as plt\n",
    "import tensorflow as tf\n",
    "import pandas as pd\n",
    "import pathlib\n",
    "import re\n",
    "from pathlib import Path\n",
    "\n",
    "#PyTorch imports\n",
    "import torch\n",
    "import torch.nn as nn\n",
    "import torch.optim as optim\n",
    "from torch.utils.data import DataLoader\n",
    "from torchvision import datasets, transforms\n",
    "import torch.nn.functional as F\n",
    "\n",
    "\n",
    "\n",
    "\n",
    "from sklearn.model_selection import train_test_split"
   ]
  },
  {
   "cell_type": "code",
   "execution_count": null,
   "id": "798b0565-f26a-4782-afbb-5c9d5c846e11",
   "metadata": {},
   "outputs": [],
   "source": [
    "#training"
   ]
  },
  {
   "cell_type": "code",
   "execution_count": null,
   "id": "78bb0325-209e-4ef2-a83d-603845defa68",
   "metadata": {},
   "outputs": [],
   "source": [
    "#call train and report results"
   ]
  },
  {
   "cell_type": "code",
   "execution_count": 2,
   "id": "42225686-52da-4a13-b379-e131bc84c088",
   "metadata": {},
   "outputs": [
    {
     "ename": "NameError",
     "evalue": "name 'train' is not defined",
     "output_type": "error",
     "traceback": [
      "\u001b[31m---------------------------------------------------------------------------\u001b[39m",
      "\u001b[31mNameError\u001b[39m                                 Traceback (most recent call last)",
      "\u001b[36mCell\u001b[39m\u001b[36m \u001b[39m\u001b[32mIn[2]\u001b[39m\u001b[32m, line 1\u001b[39m\n\u001b[32m----> \u001b[39m\u001b[32m1\u001b[39m \u001b[43mtrain\u001b[49m(\u001b[32m15\u001b[39m)\n",
      "\u001b[31mNameError\u001b[39m: name 'train' is not defined"
     ]
    }
   ],
   "source": [
    "train(15)"
   ]
  },
  {
   "cell_type": "code",
   "execution_count": null,
   "id": "27dae7c4-73a4-4a91-9a0a-46bf99c32271",
   "metadata": {},
   "outputs": [],
   "source": []
  }
 ],
 "metadata": {
  "kernelspec": {
   "display_name": "Python 3 (ipykernel)",
   "language": "python",
   "name": "python3"
  },
  "language_info": {
   "codemirror_mode": {
    "name": "ipython",
    "version": 3
   },
   "file_extension": ".py",
   "mimetype": "text/x-python",
   "name": "python",
   "nbconvert_exporter": "python",
   "pygments_lexer": "ipython3",
   "version": "3.11.9"
  }
 },
 "nbformat": 4,
 "nbformat_minor": 5
}
